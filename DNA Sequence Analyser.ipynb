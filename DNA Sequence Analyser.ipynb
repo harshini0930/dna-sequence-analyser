{
 "cells": [
  {
   "cell_type": "code",
   "execution_count": 14,
   "id": "2425e8c9-25b0-497f-97eb-40b8f24aa313",
   "metadata": {},
   "outputs": [],
   "source": [
    "def dna_sequence(seq,motif):\n",
    "    seq = seq.upper()\n",
    "    for base in seq:\n",
    "        if base not in \"ATGC\":\n",
    "           print(\"Error: enter correct characters.\")\n",
    "           return\n",
    "        length = len(seq)\n",
    "        count_A = seq.count(\"A\")\n",
    "        count_T = seq.count(\"T\")\n",
    "        count_C = seq.count(\"C\")\n",
    "        count_G = seq.count(\"G\")\n",
    "        gc_content = ((count_G + count_C) / length)*100\n",
    "        positions = []\n",
    "        pos = seq.find(motif.upper())\n",
    "        while pos != -1:\n",
    "            positions.append(pos + 1)\n",
    "            pos = seq.find(motif.upper(), pos + 1)\n",
    "            complement = {'A':'T','T':'A','G':'C','C':'G'}\n",
    "            rev_comp = ''.join(complement[base] for base in reversed(seq))\n",
    "            print (f\"Sequence Length : {length}\")\n",
    "            print (f\"Nucleotide Counts : A={count_A},T={count_T},G={count_G},C={count_C}\")\n",
    "            print (f\"Gc Content : {gc_content:.2f}%\")\n",
    "        if positions:\n",
    "            print (f\"Motif: '{motif}' found at positions: {positions}\")\n",
    "        else:\n",
    "            print(f\"Motif '{motif}' not found.\")\n",
    "            print(f\" Reverse compliment: {rev_comp}\")\n",
    "        \n",
    "        \n",
    "        \n",
    "        \n"
   ]
  },
  {
   "cell_type": "code",
   "execution_count": 17,
   "id": "6c698b6f-98e5-4619-9713-fb6b1a15f996",
   "metadata": {},
   "outputs": [
    {
     "name": "stdin",
     "output_type": "stream",
     "text": [
      "Enter a DNA sequence (only A,T,C,G):  atggtaacgcgc\n",
      "Enter a DNA motif to search for:  gcg\n"
     ]
    },
    {
     "name": "stdout",
     "output_type": "stream",
     "text": [
      "Sequence length: 12\n",
      "Nucleotide counts: A=3, T=2, C=3, G=4\n",
      "GC content: 58.33%\n",
      "Motif 'gcg' found at positions: [9]\n",
      "Reverse complement: GCGCGTTACCAT\n"
     ]
    }
   ],
   "source": [
    "dna_sequence = input(\"Enter a DNA sequence (only A,T,C,G): \")\n",
    "motif_search = input(\"Enter a DNA motif to search for: \")\n",
    "\n",
    "dna_analyzer(dna_sequence, motif_search)\n"
   ]
  },
  {
   "cell_type": "code",
   "execution_count": null,
   "id": "5ea9922e-9333-4b33-bcf0-d9117feaf1ac",
   "metadata": {},
   "outputs": [],
   "source": []
  }
 ],
 "metadata": {
  "kernelspec": {
   "display_name": "Python 3 (ipykernel)",
   "language": "python",
   "name": "python3"
  },
  "language_info": {
   "codemirror_mode": {
    "name": "ipython",
    "version": 3
   },
   "file_extension": ".py",
   "mimetype": "text/x-python",
   "name": "python",
   "nbconvert_exporter": "python",
   "pygments_lexer": "ipython3",
   "version": "3.12.7"
  }
 },
 "nbformat": 4,
 "nbformat_minor": 5
}
